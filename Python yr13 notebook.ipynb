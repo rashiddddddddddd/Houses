{
 "cells": [
  {
   "cell_type": "code",
   "execution_count": 1,
   "metadata": {},
   "outputs": [
    {
     "data": {
      "text/plain": [
       "<bound method queue.Enqueue of <__main__.queue object at 0x0000017C02DD79B0>>"
      ]
     },
     "execution_count": 1,
     "metadata": {},
     "output_type": "execute_result"
    }
   ],
   "source": [
    "class queue:\n",
    "    def __init__(self,cap):\n",
    "        self.front = self.size = 0\n",
    "        self.rear = cap - 1 \n",
    "        self.capacity = cap\n",
    "        self.Q = [None]*cap\n",
    "    \n",
    "    def isFull(self):\n",
    "        return self.size == self.cap\n",
    "    \n",
    "    def isEmpty(self):\n",
    "        return self.size == 0\n",
    "    \n",
    "    def Enqueue(self,item):\n",
    "        if self.isFull():\n",
    "            print(\"Full\")\n",
    "            return\n",
    "        self.rear = (self.rear + 1) % (self.cap)\n",
    "        self.Q[self.rear] = item\n",
    "        self.size += 1\n",
    "        print(\"% s enqueded to queue\" % str(item))\n",
    "\n",
    "    def Dequeue(self):\n",
    "        if self.isEmpty():\n",
    "            print(\"Empty\")\n",
    "            return\n",
    "        \n",
    "Queue = queue(10)\n",
    "Queue.Enqueue"
   ]
  }
 ],
 "metadata": {
  "kernelspec": {
   "display_name": "Python 3",
   "language": "python",
   "name": "python3"
  },
  "language_info": {
   "codemirror_mode": {
    "name": "ipython",
    "version": 3
   },
   "file_extension": ".py",
   "mimetype": "text/x-python",
   "name": "python",
   "nbconvert_exporter": "python",
   "pygments_lexer": "ipython3",
   "version": "3.12.0"
  },
  "orig_nbformat": 4
 },
 "nbformat": 4,
 "nbformat_minor": 2
}
